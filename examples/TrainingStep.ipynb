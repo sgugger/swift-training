{
 "cells": [
  {
   "cell_type": "code",
   "execution_count": 1,
   "metadata": {},
   "outputs": [
    {
     "name": "stdout",
     "output_type": "stream",
     "text": [
      "Installing packages:\n",
      "\t.package(path: \"~/git/swift-training\")\n",
      "\t\tUtils\n",
      "\t\tTrainingStep\n",
      "With SwiftPM flags: []\n",
      "Working in: /tmp/tmppl5q13_4/swift-install\n",
      "/home/sgugger/swift/usr/bin/swift-build: /home/sgugger/anaconda3/lib/libcurl.so.4: no version information available (required by /home/sgugger/swift/usr/lib/swift/linux/libFoundationNetworking.so)\n",
      "[1/3] Compiling jupyterInstalledPackages jupyterInstalledPackages.swift\n",
      "[2/4] Merging module jupyterInstalledPackages\n",
      "Initializing Swift...\n",
      "Installation complete!\n"
     ]
    }
   ],
   "source": [
    "%install-location $cwd/swift-install\n",
    "%install '.package(path: \"~/git/swift-training\")' Utils TrainingStep"
   ]
  },
  {
   "cell_type": "markdown",
   "metadata": {},
   "source": [
    "# Training loop examples"
   ]
  },
  {
   "cell_type": "markdown",
   "metadata": {},
   "source": [
    "This notebook gives examples of use of the training loop designed in `TrainingStep`."
   ]
  },
  {
   "cell_type": "markdown",
   "metadata": {},
   "source": [
    "Imports:"
   ]
  },
  {
   "cell_type": "code",
   "execution_count": 2,
   "metadata": {},
   "outputs": [],
   "source": [
    "import TensorFlow\n",
    "import Utils\n",
    "import TrainingStep"
   ]
  },
  {
   "cell_type": "markdown",
   "metadata": {},
   "source": [
    "For plots:"
   ]
  },
  {
   "cell_type": "code",
   "execution_count": 3,
   "metadata": {},
   "outputs": [],
   "source": [
    "import PythonKit"
   ]
  },
  {
   "cell_type": "code",
   "execution_count": 10,
   "metadata": {},
   "outputs": [],
   "source": [
    "let plt = Python.import(\"matplotlib.pyplot\")\n",
    "let np = Python.import(\"numpy\")"
   ]
  },
  {
   "cell_type": "code",
   "execution_count": 4,
   "metadata": {},
   "outputs": [
    {
     "data": {
      "text/plain": [
       "('inline', 'module://ipykernel.pylab.backend_inline')\n"
      ]
     },
     "execution_count": 4,
     "metadata": {},
     "output_type": "execute_result"
    }
   ],
   "source": [
    "%include \"EnableIPythonDisplay.swift\"\n",
    "IPythonDisplay.shell.enable_matplotlib(\"inline\")"
   ]
  },
  {
   "cell_type": "markdown",
   "metadata": {},
   "source": [
    "## Data"
   ]
  },
  {
   "cell_type": "markdown",
   "metadata": {},
   "source": [
    "The `Utils` module contains a mock dataset for a simple linear regression problem (useful for tests)."
   ]
  },
  {
   "cell_type": "code",
   "execution_count": 3,
   "metadata": {},
   "outputs": [],
   "source": [
    "let data = RegressionData(entropy: ARC4RandomNumberGenerator(seed: 42))"
   ]
  },
  {
   "cell_type": "markdown",
   "metadata": {},
   "source": [
    "Let's grab a batch of the validation set:"
   ]
  },
  {
   "cell_type": "code",
   "execution_count": 8,
   "metadata": {},
   "outputs": [],
   "source": [
    "let batch = data.validationBatches.first { _ in true }!"
   ]
  },
  {
   "cell_type": "code",
   "execution_count": 14,
   "metadata": {},
   "outputs": [
    {
     "data": {
      "text/plain": [
       "▿ 2 elements\n",
       "  ▿ .0 : [64]\n",
       "    ▿ dimensions : 1 element\n",
       "      - 0 : 64\n",
       "  ▿ .1 : [64]\n",
       "    ▿ dimensions : 1 element\n",
       "      - 0 : 64\n"
      ]
     },
     "execution_count": 14,
     "metadata": {},
     "output_type": "execute_result"
    }
   ],
   "source": [
    "(batch.data.shape, batch.label.shape)"
   ]
  },
  {
   "cell_type": "markdown",
   "metadata": {},
   "source": [
    "The elements of the dataset are tuples of floats (x, y) statisfying a relation `y = a * x + b` (with a bit of random noise added)."
   ]
  },
  {
   "cell_type": "code",
   "execution_count": 13,
   "metadata": {},
   "outputs": [
    {
     "data": {
      "image/png": "[encoded data removed]",
      "text/plain": [
       "<Figure size 432x288 with 1 Axes>"
      ]
     },
     "metadata": {
      "needs_background": "light"
     },
     "output_type": "display_data"
    },
    {
     "data": {
      "text/plain": [
       "None\n"
      ]
     },
     "execution_count": 13,
     "metadata": {},
     "output_type": "execute_result"
    }
   ],
   "source": [
    "plt.figure(figsize: [6,4])\n",
    "let npData = batch.data.makeNumpyArray()\n",
    "let npLabels = batch.label.makeNumpyArray()\n",
    "let fig = plt.scatter(npData, npLabels)\n",
    "plt.show()"
   ]
  },
  {
   "cell_type": "markdown",
   "metadata": {},
   "source": [
    "## Training loop"
   ]
  },
  {
   "cell_type": "markdown",
   "metadata": {},
   "source": [
    "We need to define a model and an optimizer for that model. The `Utils` model contains a `RegressionModel` for this task:"
   ]
  },
  {
   "cell_type": "code",
   "execution_count": 15,
   "metadata": {},
   "outputs": [],
   "source": [
    "let model = RegressionModel(a: 0.0, b: 0.0)\n",
    "let optimizer = SGD(for: model, learningRate: 0.1)"
   ]
  },
  {
   "cell_type": "markdown",
   "metadata": {},
   "source": [
    "Then we can combine the model, optimizer and the data in a `TrainingLoop`:"
   ]
  },
  {
   "cell_type": "code",
   "execution_count": 16,
   "metadata": {},
   "outputs": [],
   "source": [
    "var trainingLoop = TrainingLoop(\n",
    "  training: data.trainingEpochs, \n",
    "  validation: data.validationBatches, \n",
    "  model: model, \n",
    "  optimizer: optimizer,\n",
    "  lossFunction: meanSquaredError)"
   ]
  },
  {
   "cell_type": "markdown",
   "metadata": {},
   "source": [
    "We can train our model on the data directly using the `fit` method:"
   ]
  },
  {
   "cell_type": "code",
   "execution_count": 17,
   "metadata": {},
   "outputs": [],
   "source": [
    "trainingLoop.fit(for: 3)"
   ]
  },
  {
   "cell_type": "markdown",
   "metadata": {},
   "source": [
    "Let's check it learned something useful:"
   ]
  },
  {
   "cell_type": "code",
   "execution_count": 19,
   "metadata": {},
   "outputs": [
    {
     "data": {
      "text/plain": [
       "▿ RegressionModel\n",
       "  - a : 2.001678\n",
       "  - b : 2.9960308\n"
      ]
     },
     "execution_count": 19,
     "metadata": {},
     "output_type": "execute_result"
    }
   ],
   "source": [
    "trainingLoop.model"
   ]
  },
  {
   "cell_type": "markdown",
   "metadata": {},
   "source": [
    "The ground truth values are 2 and 3, so we're close enough!"
   ]
  },
  {
   "cell_type": "markdown",
   "metadata": {},
   "source": [
    "## Learning rate finder"
   ]
  },
  {
   "cell_type": "markdown",
   "metadata": {},
   "source": [
    "We were lucky that the first learning rate we tried up there ended up working well. In general, you need to use the learning rate finder (or try lots of values). Let's reinitialize our training loop:"
   ]
  },
  {
   "cell_type": "code",
   "execution_count": 20,
   "metadata": {},
   "outputs": [],
   "source": [
    "let model = RegressionModel(a: 0.0, b: 0.0)\n",
    "let optimizer = SGD(for: model, learningRate: 0.1)\n",
    "var trainingLoop = TrainingLoop(\n",
    "  training: data.trainingEpochs, \n",
    "  validation: data.validationBatches, \n",
    "  model: model, \n",
    "  optimizer: optimizer,\n",
    "  lossFunction: meanSquaredError)"
   ]
  },
  {
   "cell_type": "markdown",
   "metadata": {},
   "source": [
    "Then let's use the `learningRateFinder` method:"
   ]
  },
  {
   "cell_type": "code",
   "execution_count": 21,
   "metadata": {},
   "outputs": [],
   "source": [
    "let lrFinder = trainingLoop.learningRateFinder()"
   ]
  },
  {
   "cell_type": "markdown",
   "metadata": {},
   "source": [
    "It returns the `TrainingLoopCallback` that stored the information we will need to pick a learning rate. The following function will plot that information."
   ]
  },
  {
   "cell_type": "code",
   "execution_count": 22,
   "metadata": {},
   "outputs": [],
   "source": [
    "public func plot(_ learningRateFinder: LearningRateFinder, dropLast: Int = 0){\n",
    "  plt.figure(figsize: [6,4])\n",
    "  let npLearningRates = np.array(learningRateFinder.learningRates.dropLast(dropLast))\n",
    "  let npLosses = np.array(learningRateFinder.smoothedLosses.dropLast(dropLast))\n",
    "  plt.xscale(\"log\")\n",
    "  plt.xlabel(\"learning rate\")\n",
    "  plt.ylabel(\"loss\")    \n",
    "  let fig = plt.plot(npLearningRates, npLosses)\n",
    "  plt.show()\n",
    "}"
   ]
  },
  {
   "cell_type": "code",
   "execution_count": 23,
   "metadata": {},
   "outputs": [
    {
     "data": {
      "image/png": "[encoded data removed]",
      "text/plain": [
       "<Figure size 432x288 with 1 Axes>"
      ]
     },
     "metadata": {
      "needs_background": "light"
     },
     "output_type": "display_data"
    }
   ],
   "source": [
    "plot(lrFinder, dropLast: 1)"
   ]
  },
  {
   "cell_type": "markdown",
   "metadata": {},
   "source": [
    "The learning rate finder launched a mock training changing the learning rate at each batch, from 1e-7 to 10. We can see there is a long period where nothing is happening because he learning rate is to slow. At 1e-3, training starts happening and is going very well in the range 1e-2 to 0.1 (the loss is decreasing a lot). Then just before 1, training suddenly diverges because the learning rate is too high.\n",
    "\n",
    "As a general rule in this graph, you want to pick the point where the loss is the steepest, or the minimum of the curve divide by 10 (the minimum is already too high a value). Both criterions give us something like 3e-2 in our case."
   ]
  },
  {
   "cell_type": "markdown",
   "metadata": {},
   "source": [
    "## Other examples of callbacks:"
   ]
  },
  {
   "cell_type": "markdown",
   "metadata": {},
   "source": [
    "You can change the behavior of the `TrainingLoop` using `TrainingLoopCallbacks`. In this design, those callbacks have read access only. They can still change attributes of the optimizer (like the learning rate) since it's a reference type."
   ]
  },
  {
   "cell_type": "markdown",
   "metadata": {},
   "source": [
    "### Recorder"
   ]
  },
  {
   "cell_type": "markdown",
   "metadata": {},
   "source": [
    "The Recorder computes and stores the training losses and validation losses, then prints them at the end of each epoch:"
   ]
  },
  {
   "cell_type": "code",
   "execution_count": 24,
   "metadata": {},
   "outputs": [],
   "source": [
    "let model = RegressionModel(a: 0.0, b: 0.0)\n",
    "let optimizer = SGD(for: model, learningRate: 0.1)\n",
    "var trainingLoop = TrainingLoop(\n",
    "  training: data.trainingEpochs, \n",
    "  validation: data.validationBatches, \n",
    "  model: model, \n",
    "  optimizer: optimizer,\n",
    "  lossFunction: meanSquaredError,\n",
    "  callbacks: [Recorder()])"
   ]
  },
  {
   "cell_type": "code",
   "execution_count": 25,
   "metadata": {},
   "outputs": [
    {
     "name": "stdout",
     "output_type": "stream",
     "text": [
      "Epoch 1 -- Training loss: 4.44, Validation loss: 0.11\n",
      "Epoch 2 -- Training loss: 0.03, Validation loss: 0.00\n",
      "Epoch 3 -- Training loss: 0.00, Validation loss: 0.00\n",
      "Epoch 4 -- Training loss: 0.00, Validation loss: 0.00\n",
      "Epoch 5 -- Training loss: 0.00, Validation loss: 0.00\n"
     ]
    }
   ],
   "source": [
    "trainingLoop.fit(for: 5)"
   ]
  },
  {
   "cell_type": "markdown",
   "metadata": {},
   "source": [
    "### Scheduler"
   ]
  },
  {
   "cell_type": "markdown",
   "metadata": {},
   "source": [
    "A scheduler will schedule the learning rate according to any function you like:"
   ]
  },
  {
   "cell_type": "code",
   "execution_count": 28,
   "metadata": {},
   "outputs": [],
   "source": [
    "let model = RegressionModel(a: 0.0, b: 0.0)\n",
    "let optimizer = SGD(for: model, learningRate: 0.1)\n",
    "var trainingLoop = TrainingLoop(\n",
    "  training: data.trainingEpochs, \n",
    "  validation: data.validationBatches, \n",
    "  model: model, \n",
    "  optimizer: optimizer,\n",
    "  lossFunction: meanSquaredError,\n",
    "  callbacks: [Recorder(),\n",
    "              Scheduler(schedule: makeSchedule(.cosine, from: 0.1, to: 0.0))])"
   ]
  },
  {
   "cell_type": "code",
   "execution_count": 29,
   "metadata": {},
   "outputs": [
    {
     "name": "stdout",
     "output_type": "stream",
     "text": [
      "Epoch 1 -- Training loss: 4.54, Validation loss: 0.14\n",
      "Epoch 2 -- Training loss: 0.05, Validation loss: 0.01\n",
      "Epoch 3 -- Training loss: 0.01, Validation loss: 0.00\n",
      "Epoch 4 -- Training loss: 0.00, Validation loss: 0.00\n",
      "Epoch 5 -- Training loss: 0.00, Validation loss: 0.00\n"
     ]
    }
   ],
   "source": [
    "trainingLoop.fit(for: 5)"
   ]
  },
  {
   "cell_type": "markdown",
   "metadata": {},
   "source": [
    "## Changing the training step"
   ]
  },
  {
   "cell_type": "markdown",
   "metadata": {},
   "source": [
    "For more advanced modifications of the training loop, you need to write a custom training step (and maybe a custom inference step). Since the `TrainingLoop` relies on four generic types, the easiest way to write this training step is to make an extension on the training loop struct."
   ]
  },
  {
   "cell_type": "markdown",
   "metadata": {},
   "source": [
    "### Changing the grad"
   ]
  },
  {
   "cell_type": "code",
   "execution_count": 10,
   "metadata": {},
   "outputs": [],
   "source": [
    "let data = RegressionData(entropy: ARC4RandomNumberGenerator(seed: 42))\n",
    "let model = RegressionModel(a: 1.5, b: 0.0)\n",
    "let optimizer = SGD(for: model, learningRate: 0.1)\n",
    "var trainingLoop = TrainingLoop(\n",
    "  training: data.trainingEpochs, \n",
    "  validation: data.validationBatches, \n",
    "  model: model, \n",
    "  optimizer: optimizer,\n",
    "  lossFunction: meanSquaredError,\n",
    "  callbacks: [Recorder(),\n",
    "              Scheduler(schedule: makeSchedule(.cosine, from: 0.1, to: 0.0))])"
   ]
  },
  {
   "cell_type": "markdown",
   "metadata": {},
   "source": [
    "Let's give an example where we change the gradients (real application: gradient clipping). Here let's pretend the a in our model comes from something pretrained and we don't want to train it at first, so we zero its gradient."
   ]
  },
  {
   "cell_type": "code",
   "execution_count": 11,
   "metadata": {},
   "outputs": [],
   "source": [
    "extension TrainingLoop where Model == RegressionModel {\n",
    "  mutating func zeroGradTrainingStep() throws {\n",
    "    guard let data = lastInput else { return }\n",
    "    guard let target = lastTarget else { return }\n",
    "    var (loss, gradient) = valueWithGradient(at: model) { (model: Model) -> Tensor<Float> in\n",
    "      let predictions = model(data)\n",
    "      lastOutput = predictions\n",
    "      return lossFunction.f(predictions, target)\n",
    "    }\n",
    "    gradient.a = .zero\n",
    "    lastLoss = loss\n",
    "    optimizer.update(&model, along: gradient)                \n",
    "  }\n",
    "}"
   ]
  },
  {
   "cell_type": "code",
   "execution_count": 12,
   "metadata": {},
   "outputs": [
    {
     "name": "stdout",
     "output_type": "stream",
     "text": [
      "Epoch 1 -- Training loss: 3.77, Validation loss: 1.44\n",
      "Epoch 2 -- Training loss: 1.37, Validation loss: 1.38\n",
      "Epoch 3 -- Training loss: 1.34, Validation loss: 1.38\n",
      "Epoch 4 -- Training loss: 1.33, Validation loss: 1.38\n",
      "Epoch 5 -- Training loss: 1.33, Validation loss: 1.38\n"
     ]
    }
   ],
   "source": [
    "trainingLoop.fit(for: 5, trainingStep: { try $0.zeroGradTrainingStep() })"
   ]
  },
  {
   "cell_type": "markdown",
   "metadata": {},
   "source": [
    "We can see the model ended with the right value for b but that the value for a has not changed during training:"
   ]
  },
  {
   "cell_type": "code",
   "execution_count": 13,
   "metadata": {},
   "outputs": [
    {
     "data": {
      "text/plain": [
       "▿ RegressionModel\n",
       "  - a : 1.5\n",
       "  - b : 2.9863725\n"
      ]
     },
     "execution_count": 13,
     "metadata": {},
     "output_type": "execute_result"
    }
   ],
   "source": [
    "trainingLoop.model"
   ]
  },
  {
   "cell_type": "markdown",
   "metadata": {},
   "source": [
    "### Changing the loss"
   ]
  },
  {
   "cell_type": "code",
   "execution_count": 23,
   "metadata": {},
   "outputs": [],
   "source": [
    "let data = RegressionData(entropy: ARC4RandomNumberGenerator(seed: 42))\n",
    "let model = RegressionModel(a: 1.5, b: 0.0)\n",
    "let optimizer = SGD(for: model, learningRate: 0.1)\n",
    "var trainingLoop = TrainingLoop(\n",
    "  training: data.trainingEpochs, \n",
    "  validation: data.validationBatches, \n",
    "  model: model, \n",
    "  optimizer: optimizer,\n",
    "  lossFunction: meanSquaredError,\n",
    "  callbacks: [Recorder(),\n",
    "              Scheduler(schedule: makeSchedule(.cosine, from: 0.1, to: 0.0))])"
   ]
  },
  {
   "cell_type": "markdown",
   "metadata": {},
   "source": [
    "Here, let's give an example of regularizer that adds some kind of penalty to the loss:"
   ]
  },
  {
   "cell_type": "code",
   "execution_count": 24,
   "metadata": {},
   "outputs": [],
   "source": [
    "extension TrainingLoop where Model == RegressionModel {\n",
    "  mutating func regularizerTrainingStep() throws {\n",
    "    guard let data = lastInput else { return }\n",
    "    guard let target = lastTarget else { return }\n",
    "    var (loss, gradient) = valueWithGradient(at: model) { (model: Model) -> Tensor<Float> in\n",
    "      let predictions = model(data)\n",
    "      lastOutput = predictions\n",
    "      return lossFunction.f(predictions, target) + 0.1 * (model.a + model.b)\n",
    "    }\n",
    "    lastLoss = loss\n",
    "    optimizer.update(&model, along: gradient)                \n",
    "  }\n",
    "}"
   ]
  },
  {
   "cell_type": "code",
   "execution_count": 25,
   "metadata": {},
   "outputs": [
    {
     "name": "stdout",
     "output_type": "stream",
     "text": [
      "Epoch 1 -- Training loss: 3.00, Validation loss: 0.16\n",
      "Epoch 2 -- Training loss: 0.54, Validation loss: 0.02\n",
      "Epoch 3 -- Training loss: 0.50, Validation loss: 0.01\n",
      "Epoch 4 -- Training loss: 0.50, Validation loss: 0.01\n",
      "Epoch 5 -- Training loss: 0.50, Validation loss: 0.01\n"
     ]
    }
   ],
   "source": [
    "trainingLoop.fit(for: 5, trainingStep: { try $0.regularizerTrainingStep() })"
   ]
  },
  {
   "cell_type": "code",
   "execution_count": 26,
   "metadata": {},
   "outputs": [
    {
     "data": {
      "text/plain": [
       "▿ RegressionModel\n",
       "  - a : 1.9917413\n",
       "  - b : 2.9361107\n"
      ]
     },
     "execution_count": 26,
     "metadata": {},
     "output_type": "execute_result"
    }
   ],
   "source": [
    "trainingLoop.model"
   ]
  },
  {
   "cell_type": "code",
   "execution_count": null,
   "metadata": {},
   "outputs": [],
   "source": []
  }
 ],
 "metadata": {
  "jupytext": {
   "split_at_heading": true
  },
  "kernelspec": {
   "display_name": "Swift",
   "language": "swift",
   "name": "swift"
  },
  "language_info": {
   "file_extension": ".swift",
   "mimetype": "text/x-swift",
   "name": "swift",
   "version": ""
  }
 },
 "nbformat": 4,
 "nbformat_minor": 2
}
