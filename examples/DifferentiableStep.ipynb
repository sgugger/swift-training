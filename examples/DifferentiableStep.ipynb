{
 "cells": [
  {
   "cell_type": "code",
   "execution_count": 1,
   "metadata": {},
   "outputs": [
    {
     "name": "stdout",
     "output_type": "stream",
     "text": [
      "Installing packages:\n",
      "\t.package(path: \"../../..\")\n",
      "\t\tUtils\n",
      "\t\tDifferentiableStep\n",
      "With SwiftPM flags: []\n",
      "Working in: /tmp/tmp1xe7i0on/swift-install\n",
      "/home/sgugger/swift/usr/bin/swift-build: /home/sgugger/anaconda3/lib/libcurl.so.4: no version information available (required by /home/sgugger/swift/usr/lib/swift/linux/libFoundationNetworking.so)\n",
      "[1/3] Compiling DifferentiableStep Scheduler.swift\n",
      "[2/3] Compiling DifferentiableStep LearningRateFinder.swift\n",
      "[3/4] Merging module DifferentiableStep\n",
      "[4/6] Compiling jupyterInstalledPackages jupyterInstalledPackages.swift\n",
      "[5/7] Merging module jupyterInstalledPackages\n",
      "[6/6] Linking libjupyterInstalledPackages.so\n",
      "Initializing Swift...\n",
      "Installation complete!\n"
     ]
    }
   ],
   "source": [
    "%install-location $cwd/swift-install\n",
    "%install '.package(path: \"../../..\")' Utils DifferentiableStep"
   ]
  },
  {
   "cell_type": "markdown",
   "metadata": {},
   "source": [
    "# Training loop examples"
   ]
  },
  {
   "cell_type": "markdown",
   "metadata": {},
   "source": [
    "This notebook gives examples of use of the training loop designed in `DifferentiableStep`."
   ]
  },
  {
   "cell_type": "markdown",
   "metadata": {},
   "source": [
    "Imports:"
   ]
  },
  {
   "cell_type": "code",
   "execution_count": 2,
   "metadata": {},
   "outputs": [],
   "source": [
    "import TensorFlow\n",
    "import Utils\n",
    "import DifferentiableStep"
   ]
  },
  {
   "cell_type": "markdown",
   "metadata": {},
   "source": [
    "For plots:"
   ]
  },
  {
   "cell_type": "code",
   "execution_count": 3,
   "metadata": {},
   "outputs": [],
   "source": [
    "import PythonKit"
   ]
  },
  {
   "cell_type": "code",
   "execution_count": 4,
   "metadata": {},
   "outputs": [],
   "source": [
    "let plt = Python.import(\"matplotlib.pyplot\")\n",
    "let np = Python.import(\"numpy\")"
   ]
  },
  {
   "cell_type": "code",
   "execution_count": 5,
   "metadata": {},
   "outputs": [
    {
     "data": {
      "text/plain": [
       "('inline', 'module://ipykernel.pylab.backend_inline')\n"
      ]
     },
     "execution_count": 5,
     "metadata": {},
     "output_type": "execute_result"
    }
   ],
   "source": [
    "%include \"EnableIPythonDisplay.swift\"\n",
    "IPythonDisplay.shell.enable_matplotlib(\"inline\")"
   ]
  },
  {
   "cell_type": "markdown",
   "metadata": {},
   "source": [
    "## Data"
   ]
  },
  {
   "cell_type": "markdown",
   "metadata": {},
   "source": [
    "The `Utils` module contains a mock dataset for a simple linear regression problem (useful for tests)."
   ]
  },
  {
   "cell_type": "code",
   "execution_count": 6,
   "metadata": {},
   "outputs": [],
   "source": [
    "let data = RegressionData(entropy: ARC4RandomNumberGenerator(seed: 42))"
   ]
  },
  {
   "cell_type": "markdown",
   "metadata": {},
   "source": [
    "Let's grab a batch of the validation set:"
   ]
  },
  {
   "cell_type": "code",
   "execution_count": 7,
   "metadata": {},
   "outputs": [],
   "source": [
    "let batch = data.validationBatches.first { _ in true }!"
   ]
  },
  {
   "cell_type": "code",
   "execution_count": 8,
   "metadata": {},
   "outputs": [
    {
     "data": {
      "text/plain": [
       "▿ 2 elements\n",
       "  ▿ .0 : [64]\n",
       "    ▿ dimensions : 1 element\n",
       "      - 0 : 64\n",
       "  ▿ .1 : [64]\n",
       "    ▿ dimensions : 1 element\n",
       "      - 0 : 64\n"
      ]
     },
     "execution_count": 8,
     "metadata": {},
     "output_type": "execute_result"
    }
   ],
   "source": [
    "(batch.data.shape, batch.label.shape)"
   ]
  },
  {
   "cell_type": "markdown",
   "metadata": {},
   "source": [
    "The elements of the dataset are tuples of floats (x, y) statisfying a relation `y = a * x + b` (with a bit of random noise added)."
   ]
  },
  {
   "cell_type": "code",
   "execution_count": 9,
   "metadata": {},
   "outputs": [
    {
     "data": {
      "image/png": "[encoded data removed]",
      "text/plain": [
       "<Figure size 432x288 with 1 Axes>"
      ]
     },
     "metadata": {
      "needs_background": "light"
     },
     "output_type": "display_data"
    },
    {
     "data": {
      "text/plain": [
       "None\n"
      ]
     },
     "execution_count": 9,
     "metadata": {},
     "output_type": "execute_result"
    }
   ],
   "source": [
    "plt.figure(figsize: [6,4])\n",
    "let npData = batch.data.makeNumpyArray()\n",
    "let npLabels = batch.label.makeNumpyArray()\n",
    "let fig = plt.scatter(npData, npLabels)\n",
    "plt.show()"
   ]
  },
  {
   "cell_type": "markdown",
   "metadata": {},
   "source": [
    "## Training loop"
   ]
  },
  {
   "cell_type": "markdown",
   "metadata": {},
   "source": [
    "We need to define a model and an optimizer for that model. The `Utils` model contains a `RegressionModel` for this task:"
   ]
  },
  {
   "cell_type": "code",
   "execution_count": 10,
   "metadata": {},
   "outputs": [],
   "source": [
    "let model = RegressionModel(a: 0.0, b: 0.0)\n",
    "let optimizer = SGD(for: model, learningRate: 0.1)"
   ]
  },
  {
   "cell_type": "markdown",
   "metadata": {},
   "source": [
    "Then we can combine the model, optimizer and the data in a `TrainingLoop`:"
   ]
  },
  {
   "cell_type": "code",
   "execution_count": 11,
   "metadata": {},
   "outputs": [],
   "source": [
    "var trainingLoop = TrainingLoop(\n",
    "  training: data.trainingEpochs, \n",
    "  validation: data.validationBatches, \n",
    "  model: model, \n",
    "  optimizer: optimizer,\n",
    "  lossFunction: meanSquaredError)"
   ]
  },
  {
   "cell_type": "markdown",
   "metadata": {},
   "source": [
    "We can train our model on the data directly using the `fit` method:"
   ]
  },
  {
   "cell_type": "code",
   "execution_count": 12,
   "metadata": {},
   "outputs": [],
   "source": [
    "trainingLoop.fit(for: 3)"
   ]
  },
  {
   "cell_type": "markdown",
   "metadata": {},
   "source": [
    "Let's check it learned something useful:"
   ]
  },
  {
   "cell_type": "code",
   "execution_count": 13,
   "metadata": {},
   "outputs": [
    {
     "data": {
      "text/plain": [
       "▿ RegressionModel\n",
       "  - a : 2.001678\n",
       "  - b : 2.9960308\n"
      ]
     },
     "execution_count": 13,
     "metadata": {},
     "output_type": "execute_result"
    }
   ],
   "source": [
    "trainingLoop.model"
   ]
  },
  {
   "cell_type": "markdown",
   "metadata": {},
   "source": [
    "The ground truth values are 2 and 3, so we're close enough!"
   ]
  },
  {
   "cell_type": "markdown",
   "metadata": {},
   "source": [
    "## Learning rate finder"
   ]
  },
  {
   "cell_type": "markdown",
   "metadata": {},
   "source": [
    "We were lucky that the first learning rate we tried up there ended up working well. In general, you need to use the learning rate finder (or try lots of values). Let's reinitialize our training loop:"
   ]
  },
  {
   "cell_type": "code",
   "execution_count": 14,
   "metadata": {},
   "outputs": [],
   "source": [
    "let model = RegressionModel(a: 0.0, b: 0.0)\n",
    "let optimizer = SGD(for: model, learningRate: 0.1)\n",
    "var trainingLoop = TrainingLoop(\n",
    "  training: data.trainingEpochs, \n",
    "  validation: data.validationBatches, \n",
    "  model: model, \n",
    "  optimizer: optimizer,\n",
    "  lossFunction: meanSquaredError)"
   ]
  },
  {
   "cell_type": "markdown",
   "metadata": {},
   "source": [
    "Then let's use the `learningRateFinder` method:"
   ]
  },
  {
   "cell_type": "code",
   "execution_count": 15,
   "metadata": {},
   "outputs": [],
   "source": [
    "let lrFinder = trainingLoop.learningRateFinder()"
   ]
  },
  {
   "cell_type": "markdown",
   "metadata": {},
   "source": [
    "It returns the `TrainingLoopCallback` that stored the information we will need to pick a learning rate. The following function will plot that information."
   ]
  },
  {
   "cell_type": "code",
   "execution_count": 16,
   "metadata": {},
   "outputs": [],
   "source": [
    "public func plot(_ learningRateFinder: LearningRateFinder, dropLast: Int = 0){\n",
    "  plt.figure(figsize: [6,4])\n",
    "  let npLearningRates = np.array(learningRateFinder.learningRates.dropLast(dropLast))\n",
    "  let npLosses = np.array(learningRateFinder.smoothedLosses.dropLast(dropLast))\n",
    "  plt.xscale(\"log\")\n",
    "  plt.xlabel(\"learning rate\")\n",
    "  plt.ylabel(\"loss\")    \n",
    "  let fig = plt.plot(npLearningRates, npLosses)\n",
    "  plt.show()\n",
    "}"
   ]
  },
  {
   "cell_type": "code",
   "execution_count": 17,
   "metadata": {},
   "outputs": [
    {
     "data": {
      "image/png": "[encoded data removed]",
      "text/plain": [
       "<Figure size 432x288 with 1 Axes>"
      ]
     },
     "metadata": {
      "needs_background": "light"
     },
     "output_type": "display_data"
    }
   ],
   "source": [
    "plot(lrFinder, dropLast: 1)"
   ]
  },
  {
   "cell_type": "markdown",
   "metadata": {},
   "source": [
    "The learning rate finder launched a mock training changing the learning rate at each batch, from 1e-7 to 10. We can see there is a long period where nothing is happening because he learning rate is to slow. At 1e-3, training starts happening and is going very well in the range 1e-2 to 0.1 (the loss is decreasing a lot). Then just before 1, training suddenly diverges because the learning rate is too high.\n",
    "\n",
    "As a general rule in this graph, you want to pick the point where the loss is the steepest, or the minimum of the curve divide by 10 (the minimum is already too high a value). Both criterions give us something like 3e-2 in our case."
   ]
  },
  {
   "cell_type": "markdown",
   "metadata": {},
   "source": [
    "## Other examples of callbacks:"
   ]
  },
  {
   "cell_type": "markdown",
   "metadata": {},
   "source": [
    "You can change the behavior of the `TrainingLoop` using `TrainingLoopCallbacks`. In this design, those callbacks have read and write access. They can change any attributes of the training loop."
   ]
  },
  {
   "cell_type": "markdown",
   "metadata": {},
   "source": [
    "### Recorder"
   ]
  },
  {
   "cell_type": "markdown",
   "metadata": {},
   "source": [
    "The Recorder computes and stores the training losses and validation losses, then prints them at the end of each epoch:"
   ]
  },
  {
   "cell_type": "code",
   "execution_count": 18,
   "metadata": {},
   "outputs": [],
   "source": [
    "let model = RegressionModel(a: 0.0, b: 0.0)\n",
    "let optimizer = SGD(for: model, learningRate: 0.1)\n",
    "\n",
    "let recorder = Recorder()\n",
    "var trainingLoop = TrainingLoop(\n",
    "  training: data.trainingEpochs, \n",
    "  validation: data.validationBatches, \n",
    "  model: model, \n",
    "  optimizer: optimizer,\n",
    "  lossFunction: meanSquaredError,\n",
    "  callbacks: [recorder.handler])"
   ]
  },
  {
   "cell_type": "code",
   "execution_count": 19,
   "metadata": {},
   "outputs": [
    {
     "name": "stdout",
     "output_type": "stream",
     "text": [
      "Epoch 1 -- Training loss: 4.44, Validation loss: 0.11\n",
      "Epoch 2 -- Training loss: 0.03, Validation loss: 0.00\n",
      "Epoch 3 -- Training loss: 0.00, Validation loss: 0.00\n",
      "Epoch 4 -- Training loss: 0.00, Validation loss: 0.00\n",
      "Epoch 5 -- Training loss: 0.00, Validation loss: 0.00\n"
     ]
    }
   ],
   "source": [
    "trainingLoop.fit(for: 5)"
   ]
  },
  {
   "cell_type": "markdown",
   "metadata": {},
   "source": [
    "And we can plot those losses:"
   ]
  },
  {
   "cell_type": "code",
   "execution_count": 20,
   "metadata": {},
   "outputs": [
    {
     "data": {
      "image/png": "[encoded data removed]",
      "text/plain": [
       "<Figure size 432x288 with 1 Axes>"
      ]
     },
     "metadata": {
      "needs_background": "light"
     },
     "output_type": "display_data"
    },
    {
     "data": {
      "text/plain": [
       "None\n"
      ]
     },
     "execution_count": 20,
     "metadata": {},
     "output_type": "execute_result"
    }
   ],
   "source": [
    "plt.figure(figsize: [6,4])\n",
    "let npTrainingLosses = np.array(recorder.trainingLosses)\n",
    "let npValidationLosses = np.array(recorder.validationLosses)\n",
    "let _ = plt.plot(npTrainingLosses, label: \"training\")\n",
    "let _ = plt.plot(npValidationLosses, label: \"validation\")\n",
    "plt.legend()\n",
    "plt.show()"
   ]
  },
  {
   "cell_type": "markdown",
   "metadata": {},
   "source": [
    "The `Recorder` can also compute (and print out) metrics:"
   ]
  },
  {
   "cell_type": "code",
   "execution_count": 38,
   "metadata": {},
   "outputs": [],
   "source": [
    "struct AlmostAccuracy: Metric {\n",
    "  public var name: String { \"AlmostAccuracy(\\(threshold))\" }\n",
    "  let threshold: Float\n",
    "  var sampleCount: Int = 0\n",
    "  var corrects: Int = 0\n",
    "\n",
    "  public var value: Float? {\n",
    "    sampleCount == 0 ? nil : Float(corrects) / Float(sampleCount)\n",
    "  }\n",
    "\n",
    "  public init(threshold: Float) {\n",
    "    self.threshold = threshold\n",
    "  }\n",
    "\n",
    "  public mutating func reset() {\n",
    "    sampleCount = 0\n",
    "    corrects = 0\n",
    "  }\n",
    "\n",
    "  public mutating func accumulate<Output, Target>(output: Output, target: Target) {\n",
    "    guard let tensorOutput = output as? Tensor<Float> else { return }\n",
    "    guard let tensorTarget = target as? Tensor<Float> else { return }\n",
    "    sampleCount += tensorOutput.shape[0]\n",
    "    let diff = abs(tensorOutput - tensorTarget)\n",
    "    corrects += Int(Tensor<Int32>(diff .<= threshold).sum().scalarized())\n",
    "  }\n",
    "}"
   ]
  },
  {
   "cell_type": "code",
   "execution_count": 39,
   "metadata": {},
   "outputs": [],
   "source": [
    "let model = RegressionModel(a: 0.0, b: 0.0)\n",
    "let optimizer = SGD(for: model, learningRate: 0.1)\n",
    "\n",
    "let recorder = Recorder(metrics: [AlmostAccuracy(threshold: 0.1)])\n",
    "var trainingLoop = TrainingLoop(\n",
    "  training: data.trainingEpochs, \n",
    "  validation: data.validationBatches, \n",
    "  model: model, \n",
    "  optimizer: optimizer,\n",
    "  lossFunction: meanSquaredError,\n",
    "  callbacks: [recorder.handler])"
   ]
  },
  {
   "cell_type": "code",
   "execution_count": 40,
   "metadata": {},
   "outputs": [
    {
     "name": "stdout",
     "output_type": "stream",
     "text": [
      "Epoch 1 -- Training loss: 4.44, Validation loss: 0.11, AlmostAccuracy(0.1): 0.00\n",
      "Epoch 2 -- Training loss: 0.03, Validation loss: 0.00, AlmostAccuracy(0.1): 0.80\n",
      "Epoch 3 -- Training loss: 0.00, Validation loss: 0.00, AlmostAccuracy(0.1): 0.98\n",
      "Epoch 4 -- Training loss: 0.00, Validation loss: 0.00, AlmostAccuracy(0.1): 0.99\n",
      "Epoch 5 -- Training loss: 0.00, Validation loss: 0.00, AlmostAccuracy(0.1): 0.98\n"
     ]
    }
   ],
   "source": [
    "trainingLoop.fit(for: 5)"
   ]
  },
  {
   "cell_type": "markdown",
   "metadata": {},
   "source": [
    "### Scheduler"
   ]
  },
  {
   "cell_type": "markdown",
   "metadata": {},
   "source": [
    "A scheduler will schedule the learning rate according to any function you like:"
   ]
  },
  {
   "cell_type": "code",
   "execution_count": 21,
   "metadata": {},
   "outputs": [],
   "source": [
    "let model = RegressionModel(a: 0.0, b: 0.0)\n",
    "let optimizer = SGD(for: model, learningRate: 0.1)\n",
    "\n",
    "let recorder = Recorder()\n",
    "var trainingLoop = TrainingLoop(\n",
    "  training: data.trainingEpochs, \n",
    "  validation: data.validationBatches, \n",
    "  model: model, \n",
    "  optimizer: optimizer,\n",
    "  lossFunction: meanSquaredError,\n",
    "  callbacks: [recorder.handler,\n",
    "              learningRateScheduler(makeSchedule(.cosine, from: 0.1, to: 0.0))])"
   ]
  },
  {
   "cell_type": "code",
   "execution_count": 22,
   "metadata": {},
   "outputs": [
    {
     "name": "stdout",
     "output_type": "stream",
     "text": [
      "Epoch 1 -- Training loss: 4.45, Validation loss: 0.12\n",
      "Epoch 2 -- Training loss: 0.04, Validation loss: 0.01\n",
      "Epoch 3 -- Training loss: 0.00, Validation loss: 0.00\n",
      "Epoch 4 -- Training loss: 0.00, Validation loss: 0.00\n",
      "Epoch 5 -- Training loss: 0.00, Validation loss: 0.00\n"
     ]
    }
   ],
   "source": [
    "trainingLoop.fit(for: 5)"
   ]
  },
  {
   "cell_type": "markdown",
   "metadata": {},
   "source": [
    "### Changing the grad"
   ]
  },
  {
   "cell_type": "markdown",
   "metadata": {},
   "source": [
    "Let's give an example where we change the gradients (real application: gradient clipping). Here let's pretend the a in our model comes from something pretrained and we don't want to train it at first, so we zero its gradient."
   ]
  },
  {
   "cell_type": "code",
   "execution_count": 27,
   "metadata": {},
   "outputs": [],
   "source": [
    "func zeroGrad<L: TrainingLoopProtocol>(_ loop: inout L, event: TrainingLoopEvent) throws \n",
    "where L.Model == RegressionModel {\n",
    "  if event == .updateStart {\n",
    "    var grad = loop.lastGradient!\n",
    "    grad.a = .zero\n",
    "    loop.lastGradient = grad\n",
    "  }\n",
    "}"
   ]
  },
  {
   "cell_type": "code",
   "execution_count": 28,
   "metadata": {},
   "outputs": [],
   "source": [
    "let data = RegressionData(entropy: ARC4RandomNumberGenerator(seed: 42))\n",
    "let model = RegressionModel(a: 1.5, b: 0.0)\n",
    "let optimizer = SGD(for: model, learningRate: 0.1)\n",
    "\n",
    "let recorder = Recorder()\n",
    "var trainingLoop = TrainingLoop(\n",
    "  training: data.trainingEpochs, \n",
    "  validation: data.validationBatches, \n",
    "  model: model, \n",
    "  optimizer: optimizer,\n",
    "  lossFunction: meanSquaredError,\n",
    "  callbacks: [recorder.handler, zeroGrad])"
   ]
  },
  {
   "cell_type": "code",
   "execution_count": 29,
   "metadata": {},
   "outputs": [
    {
     "name": "stdout",
     "output_type": "stream",
     "text": [
      "Epoch 1 -- Training loss: 3.84, Validation loss: 1.45\n",
      "Epoch 2 -- Training loss: 1.36, Validation loss: 1.38\n",
      "Epoch 3 -- Training loss: 1.33, Validation loss: 1.38\n",
      "Epoch 4 -- Training loss: 1.34, Validation loss: 1.38\n",
      "Epoch 5 -- Training loss: 1.33, Validation loss: 1.39\n"
     ]
    }
   ],
   "source": [
    "trainingLoop.fit(for: 5)"
   ]
  },
  {
   "cell_type": "markdown",
   "metadata": {},
   "source": [
    "We can see the model ended with the right value for b but that the value for a has not changed during training:"
   ]
  },
  {
   "cell_type": "code",
   "execution_count": 30,
   "metadata": {},
   "outputs": [
    {
     "data": {
      "text/plain": [
       "▿ RegressionModel\n",
       "  - a : 1.5\n",
       "  - b : 3.0352817\n"
      ]
     },
     "execution_count": 30,
     "metadata": {},
     "output_type": "execute_result"
    }
   ],
   "source": [
    "trainingLoop.model"
   ]
  },
  {
   "cell_type": "markdown",
   "metadata": {},
   "source": [
    "## Changing the differentiable step"
   ]
  },
  {
   "cell_type": "markdown",
   "metadata": {},
   "source": [
    "For modifications of the training loop that intervene during the differentiable step, we don't have events to change the training loop. We need to write a custom differentiable step. Since the `TrainingLoop` relies on four generic types, the easiest way to write this training step is to make an extension on the training loop struct."
   ]
  },
  {
   "cell_type": "markdown",
   "metadata": {},
   "source": [
    "### Changing the loss"
   ]
  },
  {
   "cell_type": "code",
   "execution_count": 34,
   "metadata": {},
   "outputs": [],
   "source": [
    "let data = RegressionData(entropy: ARC4RandomNumberGenerator(seed: 42))\n",
    "let model = RegressionModel(a: 1.5, b: 0.0)\n",
    "let optimizer = SGD(for: model, learningRate: 0.1)\n",
    "\n",
    "let recorder = Recorder()\n",
    "var trainingLoop = TrainingLoop(\n",
    "  training: data.trainingEpochs, \n",
    "  validation: data.validationBatches, \n",
    "  model: model, \n",
    "  optimizer: optimizer,\n",
    "  lossFunction: meanSquaredError,\n",
    "  callbacks: [recorder.handler])"
   ]
  },
  {
   "cell_type": "markdown",
   "metadata": {},
   "source": [
    "Here, let's give an example of regularizer that adds some kind of penalty to the loss:"
   ]
  },
  {
   "cell_type": "code",
   "execution_count": 35,
   "metadata": {},
   "outputs": [],
   "source": [
    "extension TrainingLoop where Model == RegressionModel {\n",
    "  mutating func regularizerDifferentiableStep() throws {\n",
    "    guard let data = lastInput else { return }\n",
    "    guard let target = lastTarget else { return }\n",
    "    (lastLoss, lastGradient) = valueWithGradient(at: model) { (model: Model) -> Tensor<Float> in\n",
    "      let predictions = model(data)\n",
    "      lastOutput = predictions\n",
    "      return lossFunction.f(predictions, target) + 0.1 * (model.a + model.b)\n",
    "    }\n",
    "  }\n",
    "}"
   ]
  },
  {
   "cell_type": "code",
   "execution_count": 36,
   "metadata": {},
   "outputs": [
    {
     "name": "stdout",
     "output_type": "stream",
     "text": [
      "Epoch 1 -- Training loss: 3.02, Validation loss: 0.14\n",
      "Epoch 2 -- Training loss: 0.53, Validation loss: 0.01\n",
      "Epoch 3 -- Training loss: 0.50, Validation loss: 0.01\n",
      "Epoch 4 -- Training loss: 0.50, Validation loss: 0.01\n",
      "Epoch 5 -- Training loss: 0.50, Validation loss: 0.01\n"
     ]
    }
   ],
   "source": [
    "trainingLoop.fit(for: 5, differentiableStep: { try $0.regularizerDifferentiableStep() })"
   ]
  },
  {
   "cell_type": "code",
   "execution_count": 37,
   "metadata": {},
   "outputs": [
    {
     "data": {
      "text/plain": [
       "▿ RegressionModel\n",
       "  - a : 1.9949354\n",
       "  - b : 2.9468217\n"
      ]
     },
     "execution_count": 37,
     "metadata": {},
     "output_type": "execute_result"
    }
   ],
   "source": [
    "trainingLoop.model"
   ]
  },
  {
   "cell_type": "code",
   "execution_count": null,
   "metadata": {},
   "outputs": [],
   "source": []
  }
 ],
 "metadata": {
  "jupytext": {
   "split_at_heading": true
  },
  "kernelspec": {
   "display_name": "Swift",
   "language": "swift",
   "name": "swift"
  },
  "language_info": {
   "file_extension": ".swift",
   "mimetype": "text/x-swift",
   "name": "swift",
   "version": ""
  }
 },
 "nbformat": 4,
 "nbformat_minor": 2
}
